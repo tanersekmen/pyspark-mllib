{
 "cells": [
  {
   "cell_type": "code",
   "execution_count": 1,
   "id": "liked-morrison",
   "metadata": {},
   "outputs": [],
   "source": [
    "from pyspark import SparkContext\n",
    "from pyspark.sql import SQLContext\n",
    "import pandas as pd\n",
    "from pyspark.sql import SparkSession\n",
    "from pyspark.mllib import linalg\n",
    "from pyspark.ml.regression import LinearRegression"
   ]
  },
  {
   "cell_type": "code",
   "execution_count": 2,
   "id": "minimal-cambridge",
   "metadata": {},
   "outputs": [],
   "source": [
    "spark = SparkSession.builder.appName('app').getOrCreate()"
   ]
  },
  {
   "cell_type": "code",
   "execution_count": 3,
   "id": "electronic-campus",
   "metadata": {},
   "outputs": [],
   "source": [
    "# bu şekilde veri okunabilir. 1.yol diyebiliriz.\n",
    "# There are many ways to read csv,xlsx,etc. file. One of them is like this:\n",
    "df = spark.read.csv('Advertising.csv')"
   ]
  },
  {
   "cell_type": "code",
   "execution_count": 4,
   "id": "adaptive-estonia",
   "metadata": {},
   "outputs": [
    {
     "name": "stdout",
     "output_type": "stream",
     "text": [
      "+----+-----+-----+---------+-----+\n",
      "| _c0|  _c1|  _c2|      _c3|  _c4|\n",
      "+----+-----+-----+---------+-----+\n",
      "|null|   TV|radio|newspaper|sales|\n",
      "|   1|230.1| 37.8|     69.2| 22.1|\n",
      "|   2| 44.5| 39.3|     45.1| 10.4|\n",
      "|   3| 17.2| 45.9|     69.3|  9.3|\n",
      "|   4|151.5| 41.3|     58.5| 18.5|\n",
      "|   5|180.8| 10.8|     58.4| 12.9|\n",
      "|   6|  8.7| 48.9|       75|  7.2|\n",
      "|   7| 57.5| 32.8|     23.5| 11.8|\n",
      "|   8|120.2| 19.6|     11.6| 13.2|\n",
      "|   9|  8.6|  2.1|        1|  4.8|\n",
      "|  10|199.8|  2.6|     21.2| 10.6|\n",
      "|  11| 66.1|  5.8|     24.2|  8.6|\n",
      "|  12|214.7|   24|        4| 17.4|\n",
      "|  13| 23.8| 35.1|     65.9|  9.2|\n",
      "|  14| 97.5|  7.6|      7.2|  9.7|\n",
      "|  15|204.1| 32.9|       46|   19|\n",
      "|  16|195.4| 47.7|     52.9| 22.4|\n",
      "|  17| 67.8| 36.6|      114| 12.5|\n",
      "|  18|281.4| 39.6|     55.8| 24.4|\n",
      "|  19| 69.2| 20.5|     18.3| 11.3|\n",
      "+----+-----+-----+---------+-----+\n",
      "only showing top 20 rows\n",
      "\n"
     ]
    }
   ],
   "source": [
    "df.show()\n",
    "# It is equal to pandas head() function.\n",
    "# .show() pandas kütüphanesinde .head() ile eşdeğerdir."
   ]
  },
  {
   "cell_type": "code",
   "execution_count": 5,
   "id": "prime-explosion",
   "metadata": {},
   "outputs": [],
   "source": [
    "# bu şekilde de veri okunabilir. Kısaca 2.yol diyebiliriz.\n",
    "# This is a second way to read csv,xlsx,etc.\n",
    "dataframe = spark.read \\\n",
    "    .options(header=True, inferSchema=True) \\\n",
    "    .csv(\"Advertising.csv\")"
   ]
  },
  {
   "cell_type": "code",
   "execution_count": 6,
   "id": "figured-drill",
   "metadata": {
    "scrolled": true
   },
   "outputs": [
    {
     "name": "stdout",
     "output_type": "stream",
     "text": [
      "+---+-----+-----+---------+-----+\n",
      "|_c0|   TV|radio|newspaper|sales|\n",
      "+---+-----+-----+---------+-----+\n",
      "|  1|230.1| 37.8|     69.2| 22.1|\n",
      "|  2| 44.5| 39.3|     45.1| 10.4|\n",
      "|  3| 17.2| 45.9|     69.3|  9.3|\n",
      "|  4|151.5| 41.3|     58.5| 18.5|\n",
      "|  5|180.8| 10.8|     58.4| 12.9|\n",
      "|  6|  8.7| 48.9|     75.0|  7.2|\n",
      "|  7| 57.5| 32.8|     23.5| 11.8|\n",
      "|  8|120.2| 19.6|     11.6| 13.2|\n",
      "|  9|  8.6|  2.1|      1.0|  4.8|\n",
      "| 10|199.8|  2.6|     21.2| 10.6|\n",
      "| 11| 66.1|  5.8|     24.2|  8.6|\n",
      "| 12|214.7| 24.0|      4.0| 17.4|\n",
      "| 13| 23.8| 35.1|     65.9|  9.2|\n",
      "| 14| 97.5|  7.6|      7.2|  9.7|\n",
      "| 15|204.1| 32.9|     46.0| 19.0|\n",
      "| 16|195.4| 47.7|     52.9| 22.4|\n",
      "| 17| 67.8| 36.6|    114.0| 12.5|\n",
      "| 18|281.4| 39.6|     55.8| 24.4|\n",
      "| 19| 69.2| 20.5|     18.3| 11.3|\n",
      "| 20|147.3| 23.9|     19.1| 14.6|\n",
      "+---+-----+-----+---------+-----+\n",
      "only showing top 20 rows\n",
      "\n"
     ]
    }
   ],
   "source": [
    "dataframe.show()"
   ]
  },
  {
   "cell_type": "code",
   "execution_count": 7,
   "id": "attempted-rendering",
   "metadata": {},
   "outputs": [
    {
     "data": {
      "text/plain": [
       "pyspark.sql.dataframe.DataFrame"
      ]
     },
     "execution_count": 7,
     "metadata": {},
     "output_type": "execute_result"
    }
   ],
   "source": [
    "type(dataframe)"
   ]
  },
  {
   "cell_type": "code",
   "execution_count": 8,
   "id": "secure-celtic",
   "metadata": {},
   "outputs": [],
   "source": [
    "# kolon isimlerini bu şekilde değiştirip gözlemleyebilirsiniz.\n",
    "# TV olarak kolon ismi verdim çünkü alt tarafta kolon isimlerini değiştirmeyi gösterdim.\n",
    "\n",
    "# This code, it can change column names.\n",
    "# If you've 5 columns like in dataframe, you can rename columns that you will work.\n",
    "df = dataframe.toDF('SıraNo','TV','Radio','Newspaper','Sales')"
   ]
  },
  {
   "cell_type": "code",
   "execution_count": 9,
   "id": "exempt-refund",
   "metadata": {},
   "outputs": [],
   "source": [
    "# burada da kasti olarak TV olan kolon adını nasıl değiştirilebileceğini göstermek istedim.\n",
    "# Here, I want to show how you can change only 1 column name with pyspark.\n",
    "df = df.withColumnRenamed('TV','Tv')"
   ]
  },
  {
   "cell_type": "code",
   "execution_count": 10,
   "id": "conceptual-cisco",
   "metadata": {},
   "outputs": [
    {
     "name": "stdout",
     "output_type": "stream",
     "text": [
      "+------+-----+-----+---------+-----+\n",
      "|SıraNo|   Tv|Radio|Newspaper|Sales|\n",
      "+------+-----+-----+---------+-----+\n",
      "|     1|230.1| 37.8|     69.2| 22.1|\n",
      "|     2| 44.5| 39.3|     45.1| 10.4|\n",
      "|     3| 17.2| 45.9|     69.3|  9.3|\n",
      "|     4|151.5| 41.3|     58.5| 18.5|\n",
      "|     5|180.8| 10.8|     58.4| 12.9|\n",
      "|     6|  8.7| 48.9|     75.0|  7.2|\n",
      "|     7| 57.5| 32.8|     23.5| 11.8|\n",
      "|     8|120.2| 19.6|     11.6| 13.2|\n",
      "|     9|  8.6|  2.1|      1.0|  4.8|\n",
      "|    10|199.8|  2.6|     21.2| 10.6|\n",
      "|    11| 66.1|  5.8|     24.2|  8.6|\n",
      "|    12|214.7| 24.0|      4.0| 17.4|\n",
      "|    13| 23.8| 35.1|     65.9|  9.2|\n",
      "|    14| 97.5|  7.6|      7.2|  9.7|\n",
      "|    15|204.1| 32.9|     46.0| 19.0|\n",
      "|    16|195.4| 47.7|     52.9| 22.4|\n",
      "|    17| 67.8| 36.6|    114.0| 12.5|\n",
      "|    18|281.4| 39.6|     55.8| 24.4|\n",
      "|    19| 69.2| 20.5|     18.3| 11.3|\n",
      "|    20|147.3| 23.9|     19.1| 14.6|\n",
      "+------+-----+-----+---------+-----+\n",
      "only showing top 20 rows\n",
      "\n"
     ]
    }
   ],
   "source": [
    "df.show()"
   ]
  },
  {
   "cell_type": "code",
   "execution_count": 11,
   "id": "seventh-technique",
   "metadata": {},
   "outputs": [],
   "source": [
    "# sıra no olan kolon bizim işimize yaramadığı için o kolonu veriden dropluyoruz.\n",
    "# I do not work with this column so I dropped.\n",
    "df = df.drop('SıraNo')"
   ]
  },
  {
   "cell_type": "code",
   "execution_count": 12,
   "id": "foster-middle",
   "metadata": {},
   "outputs": [
    {
     "data": {
      "text/plain": [
       "[('Tv', 'double'),\n",
       " ('Radio', 'double'),\n",
       " ('Newspaper', 'double'),\n",
       " ('Sales', 'double')]"
      ]
     },
     "execution_count": 12,
     "metadata": {},
     "output_type": "execute_result"
    }
   ],
   "source": [
    "# Görüldüğü gibi veri tipleri sayısal değerlere tekabül değil. Bunları float - integer hale dönüştürmemiz gerekiyor.\n",
    "# Variables are not integer or float so I have to modify them.\n",
    "df.dtypes"
   ]
  },
  {
   "cell_type": "code",
   "execution_count": 13,
   "id": "suburban-massage",
   "metadata": {},
   "outputs": [],
   "source": [
    "from pyspark.sql.functions import col\n",
    "# Burada her değer için float değerine dönüşüm yapıyoruz.\n",
    "# That code I wrote here converts variables to float.You can see below.\n",
    "df = df.select(*(col(c).cast('float').alias(c) for c in df.columns))"
   ]
  },
  {
   "cell_type": "code",
   "execution_count": 14,
   "id": "dedicated-right",
   "metadata": {},
   "outputs": [
    {
     "data": {
      "text/plain": [
       "[('Tv', 'float'),\n",
       " ('Radio', 'float'),\n",
       " ('Newspaper', 'float'),\n",
       " ('Sales', 'float')]"
      ]
     },
     "execution_count": 14,
     "metadata": {},
     "output_type": "execute_result"
    }
   ],
   "source": [
    "df.dtypes"
   ]
  },
  {
   "cell_type": "code",
   "execution_count": 36,
   "id": "grand-rhythm",
   "metadata": {},
   "outputs": [
    {
     "name": "stdout",
     "output_type": "stream",
     "text": [
      "+-----+-----+---------+-----+\n",
      "|   Tv|Radio|Newspaper|Sales|\n",
      "+-----+-----+---------+-----+\n",
      "|230.1| 37.8|     69.2| 22.1|\n",
      "| 44.5| 39.3|     45.1| 10.4|\n",
      "|151.5| 41.3|     58.5| 18.5|\n",
      "|180.8| 10.8|     58.4| 12.9|\n",
      "| 57.5| 32.8|     23.5| 11.8|\n",
      "|120.2| 19.6|     11.6| 13.2|\n",
      "|199.8|  2.6|     21.2| 10.6|\n",
      "|214.7| 24.0|      4.0| 17.4|\n",
      "|204.1| 32.9|     46.0| 19.0|\n",
      "|195.4| 47.7|     52.9| 22.4|\n",
      "| 67.8| 36.6|    114.0| 12.5|\n",
      "|281.4| 39.6|     55.8| 24.4|\n",
      "| 69.2| 20.5|     18.3| 11.3|\n",
      "|147.3| 23.9|     19.1| 14.6|\n",
      "|218.4| 27.7|     53.4| 18.0|\n",
      "|237.4|  5.1|     23.5| 12.5|\n",
      "|228.3| 16.9|     26.2| 15.5|\n",
      "|262.9|  3.5|     19.5| 12.0|\n",
      "|142.9| 29.3|     12.6| 15.0|\n",
      "|240.1| 16.7|     22.9| 15.9|\n",
      "+-----+-----+---------+-----+\n",
      "only showing top 20 rows\n",
      "\n"
     ]
    }
   ],
   "source": [
    "# tv değeri 20'den büyük ve sales değeri 10'dan büyük olduğu değerleri verir.\n",
    "# Show values where Tv variable is greater than 20 and Sales variable is greater than 10\n",
    "df.filter((df.Tv > 20) & (df.Sales > 10)).show()"
   ]
  },
  {
   "cell_type": "code",
   "execution_count": 16,
   "id": "powerful-exhibit",
   "metadata": {},
   "outputs": [
    {
     "name": "stdout",
     "output_type": "stream",
     "text": [
      "+-----+-----+---------+-----+------------------+\n",
      "|   Tv|Radio|Newspaper|Sales|              Tv_y|\n",
      "+-----+-----+---------+-----+------------------+\n",
      "|230.1| 37.8|     69.2| 22.1| 5.438514023566811|\n",
      "| 44.5| 39.3|     45.1| 10.4|3.7954891891721947|\n",
      "| 17.2| 45.9|     69.3|  9.3| 2.844909428176351|\n",
      "|151.5| 41.3|     58.5| 18.5| 5.020585624949424|\n",
      "|180.8| 10.8|     58.4| 12.9| 5.197391464837267|\n",
      "|  8.7| 48.9|     75.0|  7.2|2.1633230037369904|\n",
      "| 57.5| 32.8|     23.5| 11.8| 4.051784947803305|\n",
      "|120.2| 19.6|     11.6| 13.2| 4.789156996712107|\n",
      "|  8.6|  2.1|      1.0|  4.8| 2.151762247616406|\n",
      "|199.8|  2.6|     21.2| 10.6| 5.297316881488516|\n",
      "| 66.1|  5.8|     24.2|  8.6| 4.191168723773239|\n",
      "|214.7| 24.0|      4.0| 17.4|5.3692416906706795|\n",
      "| 23.8| 35.1|     65.9|  9.2| 3.169685548621149|\n",
      "| 97.5|  7.6|      7.2|  9.7| 4.579852378003801|\n",
      "|204.1| 32.9|     46.0| 19.0| 5.318610099720334|\n",
      "|195.4| 47.7|     52.9| 22.4| 5.275048708372676|\n",
      "| 67.8| 36.6|    114.0| 12.5| 4.216562239957526|\n",
      "|281.4| 39.6|     55.8| 24.4| 5.639777122990467|\n",
      "| 69.2| 20.5|     18.3| 11.3| 4.237000818523076|\n",
      "|147.3| 23.9|     19.1| 14.6|  4.99247134418656|\n",
      "+-----+-----+---------+-----+------------------+\n",
      "only showing top 20 rows\n",
      "\n"
     ]
    }
   ],
   "source": [
    "import pyspark.sql.functions as F\n",
    "# Tv değişkenin logaritmasını alıp minimize ederek Tv_y değişkenine atadım.\n",
    "# ben bu değeri veriye eklemiyorum çünkü tek amacım size bunun nasıl yapıldığını göstermekti.\n",
    "\n",
    "# When you work with complex data and If you want to optimize and minimize, you can use logarithmic minimization.\n",
    "df.withColumn('Tv_y', F.log(df.Tv)).show()"
   ]
  },
  {
   "cell_type": "code",
   "execution_count": 17,
   "id": "sudden-examination",
   "metadata": {},
   "outputs": [
    {
     "name": "stdout",
     "output_type": "stream",
     "text": [
      "+-----+-----+---------+-----+-------------+\n",
      "|   Tv|Radio|Newspaper|Sales|sınıflandırma|\n",
      "+-----+-----+---------+-----+-------------+\n",
      "|230.1| 37.8|     69.2| 22.1|            1|\n",
      "| 44.5| 39.3|     45.1| 10.4|            2|\n",
      "| 17.2| 45.9|     69.3|  9.3|            2|\n",
      "|151.5| 41.3|     58.5| 18.5|            1|\n",
      "|180.8| 10.8|     58.4| 12.9|            1|\n",
      "|  8.7| 48.9|     75.0|  7.2|            2|\n",
      "| 57.5| 32.8|     23.5| 11.8|            1|\n",
      "|120.2| 19.6|     11.6| 13.2|            1|\n",
      "|  8.6|  2.1|      1.0|  4.8|            3|\n",
      "|199.8|  2.6|     21.2| 10.6|            1|\n",
      "| 66.1|  5.8|     24.2|  8.6|            1|\n",
      "|214.7| 24.0|      4.0| 17.4|            1|\n",
      "| 23.8| 35.1|     65.9|  9.2|            2|\n",
      "| 97.5|  7.6|      7.2|  9.7|            1|\n",
      "|204.1| 32.9|     46.0| 19.0|            1|\n",
      "|195.4| 47.7|     52.9| 22.4|            1|\n",
      "| 67.8| 36.6|    114.0| 12.5|            1|\n",
      "|281.4| 39.6|     55.8| 24.4|            1|\n",
      "| 69.2| 20.5|     18.3| 11.3|            1|\n",
      "|147.3| 23.9|     19.1| 14.6|            1|\n",
      "+-----+-----+---------+-----+-------------+\n",
      "only showing top 20 rows\n",
      "\n"
     ]
    }
   ],
   "source": [
    "import pyspark.sql.functions as F\n",
    "# TR - Burada yapılan işlem ise tamamen sınıflandırma sistemini temsil ediyor. \n",
    "# Customer segmentation yapanların işine yarayabileceğini düşündüğüm için ekledim. (kendi çalışacağım veriye eklemiyorum)\n",
    "# Verideki Tv değişkeni 50'den büyük olduğu noktada 'Sınıflandırma' kolonuna 1 değeri ekleniyor.\n",
    "# Tv değişkeni 50'den küçük ve Sales değişkeni 6'dan büyük ise 2 değerini 'Sınıflandırma' kolonuna ekliyor.\n",
    "# Hem Tv değişkeni 50'den küçük hem de Sales değişkeni 6'dan küçük ise 3 değerini 'Sınıflandırma' kolonuna ekliyor.\n",
    "\n",
    "\n",
    "# EN - I see 1, where the tv variable is greater than 50, in 'sınıflandırma column'\n",
    "# I see 2, where the sales variable is greater than 6 in 'sınıflandırma column'\n",
    "# I see 3, otherwise in 'sınıflandırma column'\n",
    "df.withColumn('sınıflandırma', \\\n",
    "             F.when(df.Tv > 50, 1) \\\n",
    "              .when(df.Sales > 6,2) \\\n",
    "              .otherwise(3)).show()"
   ]
  },
  {
   "cell_type": "code",
   "execution_count": 18,
   "id": "confused-variation",
   "metadata": {},
   "outputs": [
    {
     "name": "stdout",
     "output_type": "stream",
     "text": [
      "+-------+------------------+------------------+-----------------+------------------+\n",
      "|summary|                Tv|             Radio|        Newspaper|             Sales|\n",
      "+-------+------------------+------------------+-----------------+------------------+\n",
      "|  count|               200|               200|              200|               200|\n",
      "|   mean|147.04250006765128| 23.26400001600385|30.55400006264448|14.022500011324883|\n",
      "| stddev| 85.85423671753229|14.846809192026852|21.77862092152218|5.2174566034584675|\n",
      "|    min|               0.7|               0.0|              0.3|               1.6|\n",
      "|    max|             296.4|              49.6|            114.0|              27.0|\n",
      "+-------+------------------+------------------+-----------------+------------------+\n",
      "\n"
     ]
    }
   ],
   "source": [
    "# Pandas kütüphanesinde olan istatistiksel bilgileri, pyspark aracılığıyla bu şekilde gözlemliyoruz.\n",
    "# You may have statistical information about data.\n",
    "df.describe().show()"
   ]
  },
  {
   "cell_type": "code",
   "execution_count": 19,
   "id": "active-friendly",
   "metadata": {},
   "outputs": [
    {
     "data": {
      "image/png": "[encoded data removed]",
      "text/plain": [
       "<Figure size 432x288 with 4 Axes>"
      ]
     },
     "metadata": {
      "needs_background": "light"
     },
     "output_type": "display_data"
    }
   ],
   "source": [
    "# Histogram grafiği. \n",
    "# Histogram graph.\n",
    "df.sample(False, 0.1).toPandas().hist();"
   ]
  },
  {
   "cell_type": "markdown",
   "id": "egyptian-strain",
   "metadata": {},
   "source": [
    "### ML "
   ]
  },
  {
   "cell_type": "code",
   "execution_count": 20,
   "id": "genuine-phase",
   "metadata": {},
   "outputs": [],
   "source": [
    "# bağımlı değişken 'Sales' olduğu için onu drop edip bağımlı değişkene etki eden featureları alıyorum\n",
    "# My dependent variable is 'Sales' so I'll take other variables.\n",
    "features = df.drop('Sales')"
   ]
  },
  {
   "cell_type": "code",
   "execution_count": 21,
   "id": "sacred-destruction",
   "metadata": {},
   "outputs": [
    {
     "data": {
      "text/plain": [
       "['Tv', 'Radio', 'Newspaper']"
      ]
     },
     "execution_count": 21,
     "metadata": {},
     "output_type": "execute_result"
    }
   ],
   "source": [
    "features.columns"
   ]
  },
  {
   "cell_type": "code",
   "execution_count": 22,
   "id": "packed-exclusion",
   "metadata": {},
   "outputs": [],
   "source": [
    "from pyspark.ml.feature import VectorAssembler\n",
    "# VectorAssembler, kendisine aldığı değişkenleri outputCol değişkenine vererek tüm değişkenleri kendi içine toplar.\n",
    "# VectorAssembler keeps variable that I given."
   ]
  },
  {
   "cell_type": "code",
   "execution_count": 23,
   "id": "spiritual-clear",
   "metadata": {},
   "outputs": [],
   "source": [
    "assembler = VectorAssembler(inputCols = features.columns, outputCol = \"features\")"
   ]
  },
  {
   "cell_type": "code",
   "execution_count": 24,
   "id": "theoretical-orange",
   "metadata": {},
   "outputs": [],
   "source": [
    "output  = assembler.transform(df)"
   ]
  },
  {
   "cell_type": "code",
   "execution_count": 25,
   "id": "detailed-explosion",
   "metadata": {},
   "outputs": [
    {
     "name": "stdout",
     "output_type": "stream",
     "text": [
      "+-----+-----+---------+-----+--------------------+\n",
      "|   Tv|Radio|Newspaper|Sales|            features|\n",
      "+-----+-----+---------+-----+--------------------+\n",
      "|230.1| 37.8|     69.2| 22.1|[230.100006103515...|\n",
      "| 44.5| 39.3|     45.1| 10.4|[44.5,39.29999923...|\n",
      "| 17.2| 45.9|     69.3|  9.3|[17.2000007629394...|\n",
      "|151.5| 41.3|     58.5| 18.5|[151.5,41.2999992...|\n",
      "|180.8| 10.8|     58.4| 12.9|[180.800003051757...|\n",
      "|  8.7| 48.9|     75.0|  7.2|[8.69999980926513...|\n",
      "| 57.5| 32.8|     23.5| 11.8|[57.5,32.79999923...|\n",
      "|120.2| 19.6|     11.6| 13.2|[120.199996948242...|\n",
      "|  8.6|  2.1|      1.0|  4.8|[8.60000038146972...|\n",
      "|199.8|  2.6|     21.2| 10.6|[199.800003051757...|\n",
      "| 66.1|  5.8|     24.2|  8.6|[66.0999984741211...|\n",
      "|214.7| 24.0|      4.0| 17.4|[214.699996948242...|\n",
      "| 23.8| 35.1|     65.9|  9.2|[23.7999992370605...|\n",
      "| 97.5|  7.6|      7.2|  9.7|[97.5,7.599999904...|\n",
      "|204.1| 32.9|     46.0| 19.0|[204.100006103515...|\n",
      "|195.4| 47.7|     52.9| 22.4|[195.399993896484...|\n",
      "| 67.8| 36.6|    114.0| 12.5|[67.8000030517578...|\n",
      "|281.4| 39.6|     55.8| 24.4|[281.399993896484...|\n",
      "| 69.2| 20.5|     18.3| 11.3|[69.1999969482421...|\n",
      "|147.3| 23.9|     19.1| 14.6|[147.300003051757...|\n",
      "+-----+-----+---------+-----+--------------------+\n",
      "only showing top 20 rows\n",
      "\n"
     ]
    }
   ],
   "source": [
    "output.show()"
   ]
  },
  {
   "cell_type": "code",
   "execution_count": 26,
   "id": "little-democracy",
   "metadata": {},
   "outputs": [],
   "source": [
    "# data değişkenine sadece ilgileneceğimiz değişkenleri, select ile sqlde olduğu gibi seçiyorum. \n",
    "# bağımsız değişkenlerin hepsini features altında VectorAssembler sayesinde almıştım.\n",
    "# bağımlı değişken ise halihazırda 'Sales'\n",
    "\n",
    "# I select only features and Sales variables to split test and train.\n",
    "data  = output.select('features','Sales')"
   ]
  },
  {
   "cell_type": "code",
   "execution_count": 27,
   "id": "willing-adoption",
   "metadata": {},
   "outputs": [],
   "source": [
    "# burada random bir şekilde train test olarak ayırıyorum.\n",
    "# It is similar to train_test_split\n",
    "train_df,test_df = data.randomSplit([0.7,0.3])"
   ]
  },
  {
   "cell_type": "markdown",
   "id": "recent-hayes",
   "metadata": {},
   "source": [
    "#### Lineer Regresyon "
   ]
  },
  {
   "cell_type": "code",
   "execution_count": 28,
   "id": "given-clone",
   "metadata": {},
   "outputs": [],
   "source": [
    "# Regresyon problemi olduğu için kullandığım algoritmayı doğrusal regresyon olarak seçiyorum.\n",
    "lin_reg = LinearRegression(featuresCol ='features', labelCol= 'Sales') \n",
    "linear_model = lin_reg.fit(train_df)"
   ]
  },
  {
   "cell_type": "code",
   "execution_count": 29,
   "id": "impressive-origin",
   "metadata": {},
   "outputs": [
    {
     "name": "stdout",
     "output_type": "stream",
     "text": [
      "b0 : 3.046575027478528\n",
      "b1: 0.04724293039728564\n",
      "b2: 0.17983343371477825\n",
      "b3: -0.0006802255741043486\n"
     ]
    }
   ],
   "source": [
    "# Regresyon katsayıları \n",
    "# Coefficients of beta 0, b1,...,bn\n",
    "coefficients =  linear_model.coefficients\n",
    "print('b0 :', linear_model.intercept)\n",
    "print('b1:', coefficients[0])\n",
    "print('b2:', coefficients[1])\n",
    "print('b3:', coefficients[2])"
   ]
  },
  {
   "cell_type": "markdown",
   "id": "public-speed",
   "metadata": {},
   "source": [
    "### Regresyon Model Hesaplama \n",
    " \n",
    " \n",
    "#### y = b0 + b1x1 + b2x2 + ... + bnxn\n"
   ]
  },
  {
   "cell_type": "code",
   "execution_count": 30,
   "id": "sapphire-accused",
   "metadata": {},
   "outputs": [
    {
     "name": "stdout",
     "output_type": "stream",
     "text": [
      "RMSE: 1.6389515452829613\n"
     ]
    }
   ],
   "source": [
    "# RMSE değerini bu şekilde alıyoruz.\n",
    "# We can reach RMSE value in this way.\n",
    "trainSummary = linear_model.summary\n",
    "print(\"RMSE:\", trainSummary.rootMeanSquaredError)"
   ]
  },
  {
   "cell_type": "code",
   "execution_count": 31,
   "id": "fabulous-acoustic",
   "metadata": {},
   "outputs": [],
   "source": [
    "# Prediction (Tahminleme)"
   ]
  },
  {
   "cell_type": "code",
   "execution_count": 32,
   "id": "proved-colon",
   "metadata": {},
   "outputs": [
    {
     "name": "stdout",
     "output_type": "stream",
     "text": [
      "+------------------+-----+--------------------+\n",
      "|        prediction|Sales|            features|\n",
      "+------------------+-----+--------------------+\n",
      "|  8.67231233546307|  5.3|[5.40000009536743...|\n",
      "| 8.416606644570004|  5.5|[7.30000019073486...|\n",
      "|12.200426777922914|  7.2|[8.69999980926513...|\n",
      "| 10.20442508612677|  7.3|[11.6999998092651...|\n",
      "| 6.090085200326536|  6.7|[18.7000007629394...|\n",
      "|  6.18561335820336|  7.2|[25.0,11.0,29.700...|\n",
      "|  8.82463821530422|  8.5|[25.1000003814697...|\n",
      "|  4.61940844173216|  6.9|[27.5,1.600000023...|\n",
      "| 4.645025561489369|  7.3|[28.6000003814697...|\n",
      "|11.686786701588455| 10.8|[36.9000015258789...|\n",
      "| 9.860422156288028| 10.1|[43.0999984741210...|\n",
      "| 9.784023857833914| 10.1|[44.7000007629394...|\n",
      "| 5.919181844136519|  8.1|[53.5,2.0,21.3999...|\n",
      "|12.754003536697422| 12.5|[67.8000030517578...|\n",
      "| 9.562599654231056| 10.9|[73.4000015258789...|\n",
      "|12.852841319970658| 12.6|[75.0999984741211...|\n",
      "|15.133708818715284| 14.6|[78.1999969482421...|\n",
      "|13.499795687854593| 13.3|[85.6999969482421...|\n",
      "|11.753949927282475| 12.9|[88.3000030517578...|\n",
      "|15.271089238971225| 15.3|[93.9000015258789...|\n",
      "+------------------+-----+--------------------+\n",
      "only showing top 20 rows\n",
      "\n"
     ]
    }
   ],
   "source": [
    "# test_df ile tahminlenen değerleri predictions içine alıyorum.\n",
    "# sonrasında predict edilen değer ile gerçek değeri karşılaştırabiliriz.\n",
    "\n",
    "# prediction variable show the predicted values given by the model.\n",
    "# you can compare prediction and sales values.\n",
    "predictions = linear_model.transform(test_df)\n",
    "predictions.select('prediction', 'Sales','features').show()"
   ]
  },
  {
   "cell_type": "code",
   "execution_count": 33,
   "id": "portuguese-bristol",
   "metadata": {},
   "outputs": [
    {
     "name": "stdout",
     "output_type": "stream",
     "text": [
      "R Squared (R2) on test data =  0.8662568387841565\n"
     ]
    }
   ],
   "source": [
    "from pyspark.ml.evaluation import RegressionEvaluator\n",
    "pred_evaluator = RegressionEvaluator(predictionCol='prediction',labelCol='Sales',metricName='r2')\n",
    "print('R Squared (R2) on test data = ', pred_evaluator.evaluate(predictions))"
   ]
  },
  {
   "cell_type": "markdown",
   "id": "infinite-olive",
   "metadata": {},
   "source": [
    "## Sources (Kaynaklar)"
   ]
  },
  {
   "cell_type": "markdown",
   "id": "graphic-flight",
   "metadata": {},
   "source": [
    "Documentation\n",
    "\n",
    "- https://spark.apache.org/docs/latest/api/python/\n",
    "\n",
    "- https://www.youtube.com/watch?v=XrpSRCwISdk&t=1495s&ab_channel=Databricks\n",
    "\n",
    "Data \n",
    "\n",
    "- https://www.kaggle.com/bumba5341/advertisingcsv \n"
   ]
  }
 ],
 "metadata": {
  "kernelspec": {
   "display_name": "Python 3",
   "language": "python",
   "name": "python3"
  },
  "language_info": {
   "codemirror_mode": {
    "name": "ipython",
    "version": 3
   },
   "file_extension": ".py",
   "mimetype": "text/x-python",
   "name": "python",
   "nbconvert_exporter": "python",
   "pygments_lexer": "ipython3",
   "version": "3.8.6"
  }
 },
 "nbformat": 4,
 "nbformat_minor": 5
}
